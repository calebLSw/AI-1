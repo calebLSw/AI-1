{
 "cells": [
  {
   "cell_type": "markdown",
   "id": "e72e548d",
   "metadata": {},
   "source": [
    "# Choose a Data Set\n",
    "\n",
    "You can choose to analyze any data that you would like! Remember, you need 1000 rows of non-null data in order to get 5 points for the \"Data\" criteria of my [rubric](https://docs.google.com/document/d/1s3wllcF3LLnytxwD8mZ-BCypXKnfaahnizWGNojT-B4/edit?usp=sharing). Consider looking at [Kaggle](https://www.kaggle.com/datasets) or [free APIs](https://free-apis.github.io/#/browse) for datasets of this size. Alternatively, you can scrape the web to make your own dataset! :D\n",
    "\n",
    "Once you have chosen your dataset, please read your data into a dataframe and call `.info()` below. If you don't call `info` I will give you 0 points for the first criteria described on the [rubric](https://docs.google.com/document/d/1s3wllcF3LLnytxwD8mZ-BCypXKnfaahnizWGNojT-B4/edit?usp=sharing)."
   ]
  },
  {
   "cell_type": "code",
   "execution_count": 1,
   "id": "d71eb2fa",
   "metadata": {},
   "outputs": [
    {
     "data": {
      "text/html": [
       "<div>\n",
       "<style scoped>\n",
       "    .dataframe tbody tr th:only-of-type {\n",
       "        vertical-align: middle;\n",
       "    }\n",
       "\n",
       "    .dataframe tbody tr th {\n",
       "        vertical-align: top;\n",
       "    }\n",
       "\n",
       "    .dataframe thead th {\n",
       "        text-align: right;\n",
       "    }\n",
       "</style>\n",
       "<table border=\"1\" class=\"dataframe\">\n",
       "  <thead>\n",
       "    <tr style=\"text-align: right;\">\n",
       "      <th></th>\n",
       "      <th>Title</th>\n",
       "      <th>Type</th>\n",
       "      <th>Genre</th>\n",
       "      <th>Release Year</th>\n",
       "      <th>Rating</th>\n",
       "      <th>Duration</th>\n",
       "      <th>Country</th>\n",
       "    </tr>\n",
       "  </thead>\n",
       "  <tbody>\n",
       "    <tr>\n",
       "      <th>0</th>\n",
       "      <td>Title 1</td>\n",
       "      <td>TV Show</td>\n",
       "      <td>Comedy</td>\n",
       "      <td>1955</td>\n",
       "      <td>PG</td>\n",
       "      <td>3 Seasons</td>\n",
       "      <td>Japan</td>\n",
       "    </tr>\n",
       "    <tr>\n",
       "      <th>1</th>\n",
       "      <td>Title 2</td>\n",
       "      <td>TV Show</td>\n",
       "      <td>Horror</td>\n",
       "      <td>2020</td>\n",
       "      <td>G</td>\n",
       "      <td>3 Seasons</td>\n",
       "      <td>India</td>\n",
       "    </tr>\n",
       "    <tr>\n",
       "      <th>2</th>\n",
       "      <td>Title 3</td>\n",
       "      <td>TV Show</td>\n",
       "      <td>Action</td>\n",
       "      <td>1966</td>\n",
       "      <td>TV-PG</td>\n",
       "      <td>140 min</td>\n",
       "      <td>United States</td>\n",
       "    </tr>\n",
       "    <tr>\n",
       "      <th>3</th>\n",
       "      <td>Title 4</td>\n",
       "      <td>Movie</td>\n",
       "      <td>Thriller</td>\n",
       "      <td>2011</td>\n",
       "      <td>PG-13</td>\n",
       "      <td>3 Seasons</td>\n",
       "      <td>Canada</td>\n",
       "    </tr>\n",
       "    <tr>\n",
       "      <th>4</th>\n",
       "      <td>Title 5</td>\n",
       "      <td>TV Show</td>\n",
       "      <td>Romance</td>\n",
       "      <td>1959</td>\n",
       "      <td>TV-14</td>\n",
       "      <td>172 min</td>\n",
       "      <td>India</td>\n",
       "    </tr>\n",
       "  </tbody>\n",
       "</table>\n",
       "</div>"
      ],
      "text/plain": [
       "     Title     Type     Genre  Release Year Rating   Duration        Country\n",
       "0  Title 1  TV Show    Comedy          1955     PG  3 Seasons          Japan\n",
       "1  Title 2  TV Show    Horror          2020      G  3 Seasons          India\n",
       "2  Title 3  TV Show    Action          1966  TV-PG    140 min  United States\n",
       "3  Title 4    Movie  Thriller          2011  PG-13  3 Seasons         Canada\n",
       "4  Title 5  TV Show   Romance          1959  TV-14    172 min          India"
      ]
     },
     "execution_count": 1,
     "metadata": {},
     "output_type": "execute_result"
    }
   ],
   "source": [
    "# Read data into a dataframe and call info()\n",
    "    # Example call:\n",
    "    # df = pd.DataFrame({\"A\":[1, 2, 3], \"B\":[4, 5, 6]})\n",
    "    # df.info()\n",
    "import pandas as pd\n",
    "df = pd.read_csv(\"Netflix_Movies_and_TV_Shows.csv\")\n",
    "df.head()\n"
   ]
  },
  {
   "cell_type": "code",
   "execution_count": 2,
   "id": "e181f0aa",
   "metadata": {},
   "outputs": [
    {
     "name": "stdout",
     "output_type": "stream",
     "text": [
      "<class 'pandas.core.frame.DataFrame'>\n",
      "RangeIndex: 3000 entries, 0 to 2999\n",
      "Data columns (total 7 columns):\n",
      " #   Column        Non-Null Count  Dtype \n",
      "---  ------        --------------  ----- \n",
      " 0   Title         3000 non-null   object\n",
      " 1   Type          3000 non-null   object\n",
      " 2   Genre         3000 non-null   object\n",
      " 3   Release Year  3000 non-null   int64 \n",
      " 4   Rating        3000 non-null   object\n",
      " 5   Duration      3000 non-null   object\n",
      " 6   Country       3000 non-null   object\n",
      "dtypes: int64(1), object(6)\n",
      "memory usage: 164.2+ KB\n"
     ]
    }
   ],
   "source": [
    "df.info()"
   ]
  },
  {
   "cell_type": "markdown",
   "id": "109e5f57",
   "metadata": {},
   "source": [
    "# My Question"
   ]
  },
  {
   "cell_type": "markdown",
   "id": "94af0ecd",
   "metadata": {},
   "source": [
    "### What’s the probability of the next Netflix movie or TV show being a Romance, based on the current genre distribution?"
   ]
  },
  {
   "cell_type": "markdown",
   "id": "9070cec5",
   "metadata": {},
   "source": [
    "# My Analysis"
   ]
  },
  {
   "cell_type": "code",
   "execution_count": 3,
   "id": "1fbfebe3",
   "metadata": {},
   "outputs": [],
   "source": [
    "import pandas as pd\n",
    "import seaborn as sns"
   ]
  },
  {
   "cell_type": "code",
   "execution_count": 4,
   "id": "ef5bca3a",
   "metadata": {},
   "outputs": [
    {
     "name": "stdout",
     "output_type": "stream",
     "text": [
      "Horror         398\n",
      "Thriller       398\n",
      "Drama          378\n",
      "Romance        376\n",
      "Comedy         369\n",
      "Documentary    369\n",
      "Action         367\n",
      "Sci-Fi         345\n",
      "Name: Genre, dtype: int64\n"
     ]
    }
   ],
   "source": [
    "genre_counts = df['Genre'].value_counts()\n",
    "\n",
    "print(genre_counts)"
   ]
  },
  {
   "cell_type": "code",
   "execution_count": 5,
   "id": "4a973f00",
   "metadata": {},
   "outputs": [
    {
     "name": "stdout",
     "output_type": "stream",
     "text": [
      "                   Genre  Count  Percentage\n",
      "Horror            Horror    398   13.266667\n",
      "Thriller        Thriller    398   13.266667\n",
      "Drama              Drama    378   12.600000\n",
      "Romance          Romance    376   12.533333\n",
      "Comedy            Comedy    369   12.300000\n",
      "Documentary  Documentary    369   12.300000\n",
      "Action            Action    367   12.233333\n",
      "Sci-Fi            Sci-Fi    345   11.500000\n"
     ]
    }
   ],
   "source": [
    "frequency_table = pd.DataFrame({\n",
    "    'Genre': genre_counts.index,\n",
    "    'Count': genre_counts.values,\n",
    "    'Percentage': (genre_counts / genre_counts.sum()) * 100\n",
    "})\n",
    "\n",
    "print(frequency_table)"
   ]
  },
  {
   "cell_type": "code",
   "execution_count": 9,
   "id": "76d2fc5b",
   "metadata": {},
   "outputs": [
    {
     "name": "stdout",
     "output_type": "stream",
     "text": [
      "Frequency Table:\n",
      "Action         367\n",
      "Comedy         369\n",
      "Documentary    369\n",
      "Drama          378\n",
      "Horror         398\n",
      "Romance        376\n",
      "Sci-Fi         345\n",
      "Thriller       398\n",
      "Name: Genre, dtype: int64\n",
      "\n",
      "Relative Frequency Table:\n",
      "Action         0.122333\n",
      "Comedy         0.123000\n",
      "Documentary    0.123000\n",
      "Drama          0.126000\n",
      "Horror         0.132667\n",
      "Romance        0.125333\n",
      "Sci-Fi         0.115000\n",
      "Thriller       0.132667\n",
      "Name: Genre, dtype: float64\n"
     ]
    },
    {
     "data": {
      "image/png": "[encoded data removed]",
      "text/plain": [
       "<Figure size 640x480 with 1 Axes>"
      ]
     },
     "metadata": {},
     "output_type": "display_data"
    }
   ],
   "source": [
    "import matplotlib.pyplot as plt\n",
    "genre_frequency = df['Genre'].value_counts().sort_index()\n",
    "\n",
    "genre_relative_frequency = genre_frequency / genre_frequency.sum()\n",
    "\n",
    "print(\"Frequency Table:\")\n",
    "print(genre_frequency)\n",
    "\n",
    "print(\"\\nRelative Frequency Table:\")\n",
    "print(genre_relative_frequency)\n",
    "\n",
    "genre_frequency.plot(kind='bar')\n",
    "plt.title('Genre Distribution')\n",
    "plt.xlabel('Genre')\n",
    "plt.ylabel('Number of Movies/TV Shows')\n",
    "plt.show()"
   ]
  },
  {
   "cell_type": "markdown",
   "id": "2fb4a923",
   "metadata": {},
   "source": [
    "# Based off of the genre counts and percentages for each genre in the above frequency table, it seems that each genre is pretty evenly distributed. The numbers in the table next to the genres represent the percentage of TV shows/movies in each genre, with Romance as 0.125333 (or 12.5333%)."
   ]
  },
  {
   "cell_type": "code",
   "execution_count": 18,
   "id": "4c7d1dc3",
   "metadata": {},
   "outputs": [
    {
     "name": "stdout",
     "output_type": "stream",
     "text": [
      "Action was picked 12.32% of the time.\n",
      "Comedy was picked 12.25% of the time.\n",
      "Documentary was picked 12.17% of the time.\n",
      "Drama was picked 12.98% of the time.\n",
      "Horror was picked 13.08% of the time.\n",
      "Romance was picked 12.39% of the time.\n",
      "Sci-Fi was picked 11.39% of the time.\n",
      "Thriller was picked 13.42% of the time.\n",
      "\n",
      "Standard Deviation of the percentages: 0.5980\n"
     ]
    }
   ],
   "source": [
    "import random\n",
    "import numpy as np\n",
    "\n",
    "genres = [\"Action\", \"Comedy\", \"Documentary\", \"Drama\", \"Horror\", \"Romance\", \"Sci-Fi\", \"Thriller\"]\n",
    "weights = [12.2333, 12.3000, 12.3000, 12.6000, 13.2667, 12.5333, 11.5000, 13.2667]\n",
    "\n",
    "num_trials = 10000\n",
    "\n",
    "count = {genre: 0 for genre in genres}\n",
    "\n",
    "# Simulate the trials\n",
    "for _ in range(num_trials):\n",
    "    chosen = random.choices(genres, weights)[0]\n",
    "    count[chosen] += 1\n",
    "\n",
    "percentages = [(count[genre] / num_trials) * 100 for genre in genres]\n",
    "\n",
    "for genre, percentage in zip(genres, percentages):\n",
    "    print(f\"{genre} was picked {percentage:.2f}% of the time.\")\n",
    "    \n",
    "std_dev = np.std(percentages)\n",
    "\n",
    "print(f\"\\nStandard Deviation of the percentages: {std_dev:.4f}\")"
   ]
  },
  {
   "cell_type": "markdown",
   "id": "e448e71a",
   "metadata": {},
   "source": [
    "# Using the frequency table's results for each genre's percentage, I found the empirical probability of each genre over 10,000 trials. All of the choices were picked pretty evenly, with romance being picked 12.39% of the time. Due to the Standard Deviation of the data being a low 0.5980%, the percentages of each genre do not vary much from the mean percentage. This means that if a genre were to be picked at random, the genres would have pretty even chances to get picked for the next TV show/movie on Netflix."
   ]
  },
  {
   "cell_type": "markdown",
   "id": "b5a374a3",
   "metadata": {},
   "source": [
    "# My Answer"
   ]
  },
  {
   "cell_type": "markdown",
   "id": "2cadbfec",
   "metadata": {},
   "source": [
    "### Based on the genre distribution, the probability of the next Netflix TV show/movie being Romance is about 12.39%. With an empirical probability of 12.39% and a standard deviation of 0.5980, the chances for each genre to be the next TV show/movie are pretty evenly distributed. The empirical probability shows that after 10,000 trials being run to determine the next genre, Romance had 12.39% of the 10,000 trials, or 12.39% chance. The low standard deviation shows that all of the genres were pretty close to the mean percentage, meaning that they all had similar chances to be picked."
   ]
  },
  {
   "cell_type": "code",
   "execution_count": null,
   "id": "2c5dc87f",
   "metadata": {},
   "outputs": [],
   "source": []
  }
 ],
 "metadata": {
  "kernelspec": {
   "display_name": "Python 3 (ipykernel)",
   "language": "python",
   "name": "python3"
  },
  "language_info": {
   "codemirror_mode": {
    "name": "ipython",
    "version": 3
   },
   "file_extension": ".py",
   "mimetype": "text/x-python",
   "name": "python",
   "nbconvert_exporter": "python",
   "pygments_lexer": "ipython3",
   "version": "3.9.13"
  }
 },
 "nbformat": 4,
 "nbformat_minor": 5
}
