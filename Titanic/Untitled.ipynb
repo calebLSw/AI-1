{
 "cells": [
  {
   "cell_type": "code",
   "execution_count": 2,
   "id": "6fad6d77",
   "metadata": {},
   "outputs": [],
   "source": [
    "import pandas as pd\n",
    "import seaborn as sns\n",
    "import matplotlib.pyplot as plt\n"
   ]
  },
  {
   "cell_type": "code",
   "execution_count": 6,
   "id": "903db740",
   "metadata": {},
   "outputs": [
    {
     "name": "stdout",
     "output_type": "stream",
     "text": [
      "Sex         F    M\n",
      "Survived          \n",
      "0         459  393\n",
      "1          27  110\n",
      "Sex              F         M\n",
      "Survived                    \n",
      "0         0.538732  0.461268\n",
      "1         0.197080  0.802920\n"
     ]
    }
   ],
   "source": [
    "\n",
    "df = pd.read_csv('estonia.csv')\n",
    "\n",
    "# Create a contingency table of survival status by gender\n",
    "contingency_table = pd.crosstab(df['Survived'], df['Sex'])\n",
    "\n",
    "# Calculate the survival rate by gender\n",
    "survival_rate_by_gender = contingency_table.div(contingency_table.sum(axis=1), axis=0)\n",
    "\n",
    "# Display the contingency table\n",
    "print(contingency_table)\n",
    "\n",
    "# Display the survival rates by gender\n",
    "print(survival_rate_by_gender)\n"
   ]
  },
  {
   "cell_type": "code",
   "execution_count": null,
   "id": "89e3ca3e",
   "metadata": {},
   "outputs": [],
   "source": []
  }
 ],
 "metadata": {
  "kernelspec": {
   "display_name": "Python 3 (ipykernel)",
   "language": "python",
   "name": "python3"
  },
  "language_info": {
   "codemirror_mode": {
    "name": "ipython",
    "version": 3
   },
   "file_extension": ".py",
   "mimetype": "text/x-python",
   "name": "python",
   "nbconvert_exporter": "python",
   "pygments_lexer": "ipython3",
   "version": "3.9.13"
  }
 },
 "nbformat": 4,
 "nbformat_minor": 5
}
